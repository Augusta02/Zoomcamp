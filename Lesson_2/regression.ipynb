{
 "cells": [
  {
   "cell_type": "code",
   "execution_count": 352,
   "metadata": {},
   "outputs": [],
   "source": [
    "import numpy as np\n",
    "import pandas as pd\n",
    "import matplotlib.pyplot as plt\n",
    "import seaborn as sns"
   ]
  },
  {
   "cell_type": "code",
   "execution_count": 353,
   "metadata": {},
   "outputs": [
    {
     "data": {
      "text/html": [
       "<div>\n",
       "<style scoped>\n",
       "    .dataframe tbody tr th:only-of-type {\n",
       "        vertical-align: middle;\n",
       "    }\n",
       "\n",
       "    .dataframe tbody tr th {\n",
       "        vertical-align: top;\n",
       "    }\n",
       "\n",
       "    .dataframe thead th {\n",
       "        text-align: right;\n",
       "    }\n",
       "</style>\n",
       "<table border=\"1\" class=\"dataframe\">\n",
       "  <thead>\n",
       "    <tr style=\"text-align: right;\">\n",
       "      <th></th>\n",
       "      <th>Laptop</th>\n",
       "      <th>Status</th>\n",
       "      <th>Brand</th>\n",
       "      <th>Model</th>\n",
       "      <th>CPU</th>\n",
       "      <th>RAM</th>\n",
       "      <th>Storage</th>\n",
       "      <th>Storage type</th>\n",
       "      <th>GPU</th>\n",
       "      <th>Screen</th>\n",
       "      <th>Touch</th>\n",
       "      <th>Final Price</th>\n",
       "    </tr>\n",
       "  </thead>\n",
       "  <tbody>\n",
       "    <tr>\n",
       "      <th>0</th>\n",
       "      <td>ASUS ExpertBook B1 B1502CBA-EJ0436X Intel Core...</td>\n",
       "      <td>New</td>\n",
       "      <td>Asus</td>\n",
       "      <td>ExpertBook</td>\n",
       "      <td>Intel Core i5</td>\n",
       "      <td>8</td>\n",
       "      <td>512</td>\n",
       "      <td>SSD</td>\n",
       "      <td>NaN</td>\n",
       "      <td>15.6</td>\n",
       "      <td>No</td>\n",
       "      <td>1009.00</td>\n",
       "    </tr>\n",
       "    <tr>\n",
       "      <th>1</th>\n",
       "      <td>Alurin Go Start Intel Celeron N4020/8GB/256GB ...</td>\n",
       "      <td>New</td>\n",
       "      <td>Alurin</td>\n",
       "      <td>Go</td>\n",
       "      <td>Intel Celeron</td>\n",
       "      <td>8</td>\n",
       "      <td>256</td>\n",
       "      <td>SSD</td>\n",
       "      <td>NaN</td>\n",
       "      <td>15.6</td>\n",
       "      <td>No</td>\n",
       "      <td>299.00</td>\n",
       "    </tr>\n",
       "    <tr>\n",
       "      <th>2</th>\n",
       "      <td>ASUS ExpertBook B1 B1502CBA-EJ0424X Intel Core...</td>\n",
       "      <td>New</td>\n",
       "      <td>Asus</td>\n",
       "      <td>ExpertBook</td>\n",
       "      <td>Intel Core i3</td>\n",
       "      <td>8</td>\n",
       "      <td>256</td>\n",
       "      <td>SSD</td>\n",
       "      <td>NaN</td>\n",
       "      <td>15.6</td>\n",
       "      <td>No</td>\n",
       "      <td>789.00</td>\n",
       "    </tr>\n",
       "    <tr>\n",
       "      <th>3</th>\n",
       "      <td>MSI Katana GF66 12UC-082XES Intel Core i7-1270...</td>\n",
       "      <td>New</td>\n",
       "      <td>MSI</td>\n",
       "      <td>Katana</td>\n",
       "      <td>Intel Core i7</td>\n",
       "      <td>16</td>\n",
       "      <td>1000</td>\n",
       "      <td>SSD</td>\n",
       "      <td>RTX 3050</td>\n",
       "      <td>15.6</td>\n",
       "      <td>No</td>\n",
       "      <td>1199.00</td>\n",
       "    </tr>\n",
       "    <tr>\n",
       "      <th>4</th>\n",
       "      <td>HP 15S-FQ5085NS Intel Core i5-1235U/16GB/512GB...</td>\n",
       "      <td>New</td>\n",
       "      <td>HP</td>\n",
       "      <td>15S</td>\n",
       "      <td>Intel Core i5</td>\n",
       "      <td>16</td>\n",
       "      <td>512</td>\n",
       "      <td>SSD</td>\n",
       "      <td>NaN</td>\n",
       "      <td>15.6</td>\n",
       "      <td>No</td>\n",
       "      <td>669.01</td>\n",
       "    </tr>\n",
       "  </tbody>\n",
       "</table>\n",
       "</div>"
      ],
      "text/plain": [
       "                                              Laptop Status   Brand  \\\n",
       "0  ASUS ExpertBook B1 B1502CBA-EJ0436X Intel Core...    New    Asus   \n",
       "1  Alurin Go Start Intel Celeron N4020/8GB/256GB ...    New  Alurin   \n",
       "2  ASUS ExpertBook B1 B1502CBA-EJ0424X Intel Core...    New    Asus   \n",
       "3  MSI Katana GF66 12UC-082XES Intel Core i7-1270...    New     MSI   \n",
       "4  HP 15S-FQ5085NS Intel Core i5-1235U/16GB/512GB...    New      HP   \n",
       "\n",
       "        Model            CPU  RAM  Storage Storage type       GPU  Screen  \\\n",
       "0  ExpertBook  Intel Core i5    8      512          SSD       NaN    15.6   \n",
       "1          Go  Intel Celeron    8      256          SSD       NaN    15.6   \n",
       "2  ExpertBook  Intel Core i3    8      256          SSD       NaN    15.6   \n",
       "3      Katana  Intel Core i7   16     1000          SSD  RTX 3050    15.6   \n",
       "4         15S  Intel Core i5   16      512          SSD       NaN    15.6   \n",
       "\n",
       "  Touch  Final Price  \n",
       "0    No      1009.00  \n",
       "1    No       299.00  \n",
       "2    No       789.00  \n",
       "3    No      1199.00  \n",
       "4    No       669.01  "
      ]
     },
     "execution_count": 353,
     "metadata": {},
     "output_type": "execute_result"
    }
   ],
   "source": [
    "df = pd.read_csv('/Users/mac/Desktop/projects/zoomcamp ml/Lesson_2/laptops.csv')\n",
    "df.head()"
   ]
  },
  {
   "cell_type": "code",
   "execution_count": 354,
   "metadata": {},
   "outputs": [
    {
     "data": {
      "text/plain": [
       "Index(['laptop', 'status', 'brand', 'model', 'cpu', 'ram', 'storage',\n",
       "       'storage_type', 'gpu', 'screen', 'touch', 'final_price'],\n",
       "      dtype='object')"
      ]
     },
     "execution_count": 354,
     "metadata": {},
     "output_type": "execute_result"
    }
   ],
   "source": [
    "df.columns\n",
    "df.columns = df.columns.str.lower().str.replace(' ', '_')\n",
    "df.columns"
   ]
  },
  {
   "cell_type": "code",
   "execution_count": 355,
   "metadata": {},
   "outputs": [
    {
     "data": {
      "text/html": [
       "<div>\n",
       "<style scoped>\n",
       "    .dataframe tbody tr th:only-of-type {\n",
       "        vertical-align: middle;\n",
       "    }\n",
       "\n",
       "    .dataframe tbody tr th {\n",
       "        vertical-align: top;\n",
       "    }\n",
       "\n",
       "    .dataframe thead th {\n",
       "        text-align: right;\n",
       "    }\n",
       "</style>\n",
       "<table border=\"1\" class=\"dataframe\">\n",
       "  <thead>\n",
       "    <tr style=\"text-align: right;\">\n",
       "      <th></th>\n",
       "      <th>ram</th>\n",
       "      <th>storage</th>\n",
       "      <th>screen</th>\n",
       "      <th>final_price</th>\n",
       "    </tr>\n",
       "  </thead>\n",
       "  <tbody>\n",
       "    <tr>\n",
       "      <th>0</th>\n",
       "      <td>8</td>\n",
       "      <td>512</td>\n",
       "      <td>15.6</td>\n",
       "      <td>1009.00</td>\n",
       "    </tr>\n",
       "    <tr>\n",
       "      <th>1</th>\n",
       "      <td>8</td>\n",
       "      <td>256</td>\n",
       "      <td>15.6</td>\n",
       "      <td>299.00</td>\n",
       "    </tr>\n",
       "    <tr>\n",
       "      <th>2</th>\n",
       "      <td>8</td>\n",
       "      <td>256</td>\n",
       "      <td>15.6</td>\n",
       "      <td>789.00</td>\n",
       "    </tr>\n",
       "    <tr>\n",
       "      <th>3</th>\n",
       "      <td>16</td>\n",
       "      <td>1000</td>\n",
       "      <td>15.6</td>\n",
       "      <td>1199.00</td>\n",
       "    </tr>\n",
       "    <tr>\n",
       "      <th>4</th>\n",
       "      <td>16</td>\n",
       "      <td>512</td>\n",
       "      <td>15.6</td>\n",
       "      <td>669.01</td>\n",
       "    </tr>\n",
       "  </tbody>\n",
       "</table>\n",
       "</div>"
      ],
      "text/plain": [
       "   ram  storage  screen  final_price\n",
       "0    8      512    15.6      1009.00\n",
       "1    8      256    15.6       299.00\n",
       "2    8      256    15.6       789.00\n",
       "3   16     1000    15.6      1199.00\n",
       "4   16      512    15.6       669.01"
      ]
     },
     "execution_count": 355,
     "metadata": {},
     "output_type": "execute_result"
    }
   ],
   "source": [
    "df = df[['ram', 'storage', 'screen', 'final_price']]\n",
    "df.head()"
   ]
  },
  {
   "cell_type": "code",
   "execution_count": 356,
   "metadata": {},
   "outputs": [
    {
     "data": {
      "text/plain": [
       "<Axes: xlabel='final_price', ylabel='Count'>"
      ]
     },
     "execution_count": 356,
     "metadata": {},
     "output_type": "execute_result"
    },
    {
     "data": {
      "image/png": "[encoded data removed]",
      "text/plain": [
       "<Figure size 640x480 with 1 Axes>"
      ]
     },
     "metadata": {},
     "output_type": "display_data"
    }
   ],
   "source": [
    "sns.histplot(df.final_price, bins=20)\n"
   ]
  },
  {
   "cell_type": "code",
   "execution_count": 357,
   "metadata": {},
   "outputs": [
    {
     "data": {
      "text/plain": [
       "<Axes: xlabel='final_price', ylabel='Count'>"
      ]
     },
     "execution_count": 357,
     "metadata": {},
     "output_type": "execute_result"
    },
    {
     "data": {
      "image/png": "[encoded data removed]",
      "text/plain": [
       "<Figure size 640x480 with 1 Axes>"
      ]
     },
     "metadata": {},
     "output_type": "display_data"
    }
   ],
   "source": [
    "df['final_price'] = np.log1p(df.final_price)\n",
    "sns.histplot(df.final_price, bins=20)"
   ]
  },
  {
   "cell_type": "code",
   "execution_count": 358,
   "metadata": {},
   "outputs": [
    {
     "data": {
      "text/plain": [
       "ram            0\n",
       "storage        0\n",
       "screen         4\n",
       "final_price    0\n",
       "dtype: int64"
      ]
     },
     "execution_count": 358,
     "metadata": {},
     "output_type": "execute_result"
    }
   ],
   "source": [
    "df.isnull().sum()"
   ]
  },
  {
   "cell_type": "code",
   "execution_count": 359,
   "metadata": {},
   "outputs": [
    {
     "data": {
      "text/plain": [
       "count    2160.000000\n",
       "mean       15.413889\n",
       "std         9.867815\n",
       "min         4.000000\n",
       "25%         8.000000\n",
       "50%        16.000000\n",
       "75%        16.000000\n",
       "max       128.000000\n",
       "Name: ram, dtype: float64"
      ]
     },
     "execution_count": 359,
     "metadata": {},
     "output_type": "execute_result"
    }
   ],
   "source": [
    "df['ram'].describe()"
   ]
  },
  {
   "cell_type": "markdown",
   "metadata": {},
   "source": [
    "Question 3: Building Validation Framework\n",
    "\n",
    "Answer: 0 with RMSE of 0.64 but they were quite close. \n"
   ]
  },
  {
   "cell_type": "code",
   "execution_count": 360,
   "metadata": {},
   "outputs": [],
   "source": [
    "np.random.seed(45)\n",
    "n = len(df)\n",
    "\n",
    "n_train = int(0.6 * n)\n",
    "n_val = int(0.2 * n)\n",
    "n_test = n - n_train - n_val\n",
    "\n",
    "# print(n, n_val, n_test, n_train)\n",
    "# print(n, n_train + n_val + n_test)\n",
    "\n",
    "idx = np.arange(n)\n",
    "np.random.shuffle(idx)\n",
    "\n",
    "df_train = df.iloc[idx[:n_train]]\n",
    "df_val = df.iloc[idx[n_train:n_train+n_val]]\n",
    "df_test = df.iloc[idx[n_train+n_val:]]"
   ]
  },
  {
   "cell_type": "code",
   "execution_count": 361,
   "metadata": {},
   "outputs": [],
   "source": [
    "df_train = df_train.reset_index(drop=True)\n",
    "df_val = df_val.reset_index(drop=True)\n",
    "df_test = df_test.reset_index(drop=True)"
   ]
  },
  {
   "cell_type": "code",
   "execution_count": 362,
   "metadata": {},
   "outputs": [],
   "source": [
    "y_train = df_train.final_price.values.reshape(-1, 1)\n",
    "y_val = df_val.final_price.values.reshape(-1, 1)\n",
    "y_test = df_test.final_price.values.reshape(-1, 1)\n",
    "\n",
    "\n",
    "del df_train['final_price']\n",
    "del df_val['final_price']\n",
    "del df_test['final_price']"
   ]
  },
  {
   "cell_type": "code",
   "execution_count": 363,
   "metadata": {},
   "outputs": [],
   "source": [
    "df_train_zeros = df_train.copy()\n",
    "df_val_zeros = df_val.copy()\n",
    "\n",
    "df_train_mean = df_train.copy()\n",
    "df_val_mean = df_val.copy()\n",
    "\n",
    "mean_value = df_train['screen'].mean()\n",
    "\n",
    "df_train_zeros['screen'] = df_train_zeros['screen'].fillna(0)\n",
    "df_val_zeros['screen'] = df_val_zeros['screen'].fillna(0)\n",
    "\n",
    "df_train_mean['screen'] = df_train['screen'].fillna(mean_value)\n",
    "df_val_mean['screen'] = df_val['screen'].fillna(mean_value)"
   ]
  },
  {
   "cell_type": "code",
   "execution_count": 364,
   "metadata": {},
   "outputs": [
    {
     "name": "stdout",
     "output_type": "stream",
     "text": [
      "(1296, 3) (1296, 1)\n"
     ]
    }
   ],
   "source": [
    "X_train_zeros = df_train_zeros.values\n",
    "X_val_zeros = df_val_zeros.values\n",
    "\n",
    "X_train_mean = df_train_mean.values\n",
    "X_val_mean = df_val_mean.values\n",
    "\n",
    "print(X_train_zeros.shape, y_train.shape)\n"
   ]
  },
  {
   "cell_type": "code",
   "execution_count": 365,
   "metadata": {},
   "outputs": [
    {
     "data": {
      "text/plain": [
       "(1296, 3)"
      ]
     },
     "execution_count": 365,
     "metadata": {},
     "output_type": "execute_result"
    }
   ],
   "source": [
    "X_train_mean.shape"
   ]
  },
  {
   "cell_type": "code",
   "execution_count": 366,
   "metadata": {},
   "outputs": [],
   "source": [
    "def train_linear_regression(X, y):\n",
    "    ones = np.ones(X.shape[0])\n",
    "    X = np.column_stack([ones, X])\n",
    "\n",
    "    XTX = X.T.dot(X)\n",
    "    XTX_inv = np.linalg.inv(XTX)\n",
    "    w = XTX_inv.dot(X.T).dot(y)\n",
    "    \n",
    "    return w[0], w[1:]"
   ]
  },
  {
   "cell_type": "code",
   "execution_count": 367,
   "metadata": {},
   "outputs": [
    {
     "name": "stdout",
     "output_type": "stream",
     "text": [
      "(1296, 3) (1296, 1)\n"
     ]
    }
   ],
   "source": [
    "print(X_train_zeros.shape, y_train.shape)"
   ]
  },
  {
   "cell_type": "code",
   "execution_count": 368,
   "metadata": {},
   "outputs": [],
   "source": [
    "w_0, w = train_linear_regression(X_train_zeros, y_train)\n",
    "y_pred = w_0 + X_train_zeros.dot(w)"
   ]
  },
  {
   "cell_type": "code",
   "execution_count": 369,
   "metadata": {},
   "outputs": [
    {
     "data": {
      "text/plain": [
       "<Axes: ylabel='Count'>"
      ]
     },
     "execution_count": 369,
     "metadata": {},
     "output_type": "execute_result"
    },
    {
     "data": {
      "image/png": "[encoded data removed]",
      "text/plain": [
       "<Figure size 640x480 with 1 Axes>"
      ]
     },
     "metadata": {},
     "output_type": "display_data"
    }
   ],
   "source": [
    "sns.histplot(y_train, label='target', color='blue', alpha=0.6, bins=40)\n",
    "sns.histplot(y_pred, label='prediction', color='red', alpha=0.8, bins=40)"
   ]
  },
  {
   "cell_type": "code",
   "execution_count": 370,
   "metadata": {},
   "outputs": [],
   "source": [
    "def rmse(y, y_pred):\n",
    "    error = y_pred - y\n",
    "    mse = (error ** 2).mean()\n",
    "    return np.sqrt(mse)"
   ]
  },
  {
   "cell_type": "code",
   "execution_count": 371,
   "metadata": {},
   "outputs": [
    {
     "data": {
      "text/plain": [
       "0.43904021554167943"
      ]
     },
     "execution_count": 371,
     "metadata": {},
     "output_type": "execute_result"
    }
   ],
   "source": [
    "rmse(y_train, y_pred)"
   ]
  },
  {
   "cell_type": "markdown",
   "metadata": {},
   "source": [
    "RMSE for Dataframe with 0 to fill NAN\n",
    "\"\"\" 0.43\"\"\""
   ]
  },
  {
   "cell_type": "code",
   "execution_count": 372,
   "metadata": {},
   "outputs": [
    {
     "data": {
      "text/plain": [
       "0.4372029368524134"
      ]
     },
     "execution_count": 372,
     "metadata": {},
     "output_type": "execute_result"
    }
   ],
   "source": [
    "y_pred = w_0 + X_val_zeros.dot(w)\n",
    "rmse(y_val, y_pred)"
   ]
  },
  {
   "cell_type": "code",
   "execution_count": 373,
   "metadata": {},
   "outputs": [],
   "source": [
    "w_0, w = train_linear_regression(X_train_mean, y_train)\n",
    "y_pred_mean = w_0 + X_train_mean.dot(w)\n"
   ]
  },
  {
   "cell_type": "code",
   "execution_count": 374,
   "metadata": {},
   "outputs": [
    {
     "data": {
      "text/plain": [
       "0.43799751142707805"
      ]
     },
     "execution_count": 374,
     "metadata": {},
     "output_type": "execute_result"
    }
   ],
   "source": [
    "y_pred_mean_val = w_0 + X_val_mean.dot(w)\n",
    "rmse(y_val, y_pred_mean_val)"
   ]
  },
  {
   "cell_type": "code",
   "execution_count": 375,
   "metadata": {},
   "outputs": [
    {
     "data": {
      "text/plain": [
       "<Axes: ylabel='Count'>"
      ]
     },
     "execution_count": 375,
     "metadata": {},
     "output_type": "execute_result"
    },
    {
     "data": {
      "image/png": "[encoded data removed]",
      "text/plain": [
       "<Figure size 640x480 with 1 Axes>"
      ]
     },
     "metadata": {},
     "output_type": "display_data"
    }
   ],
   "source": [
    "sns.histplot(y_train, label='target', color='red', alpha=0.6, bins=40)\n",
    "sns.histplot(y_pred_mean_val, label='prediction', color='blue', alpha=0.8, bins=40)"
   ]
  },
  {
   "cell_type": "markdown",
   "metadata": {},
   "source": [
    "### Regularization\n",
    "\n",
    "### Answer: 0.01"
   ]
  },
  {
   "cell_type": "code",
   "execution_count": 376,
   "metadata": {},
   "outputs": [],
   "source": [
    "def train_linear_regression_reg(X, y, r=0.0):\n",
    "    ones = np.ones(X.shape[0])\n",
    "    X = np.column_stack([ones, X])\n",
    "\n",
    "    XTX = X.T.dot(X)\n",
    "    reg = r * np.eye(XTX.shape[0])\n",
    "    XTX = XTX + reg\n",
    "\n",
    "    XTX_inv = np.linalg.inv(XTX)\n",
    "    w = XTX_inv.dot(X.T).dot(y)\n",
    "    \n",
    "    return w[0], w[1:]"
   ]
  },
  {
   "cell_type": "code",
   "execution_count": 377,
   "metadata": {},
   "outputs": [
    {
     "name": "stdout",
     "output_type": "stream",
     "text": [
      "0 [6.62272542] 0.44\n",
      "0.01 [6.61643959] 0.44\n",
      "0.1 [6.56040178] 0.44\n",
      "1 [6.04834359] 0.44\n",
      "5 [4.49285057] 0.48\n",
      "10 [3.40288857] 0.53\n",
      "100 [0.65368811] 0.7\n"
     ]
    }
   ],
   "source": [
    "for r in [0, 0.01, 0.1, 1, 5, 10, 100]:\n",
    "    w_0, w = train_linear_regression_reg(X_train_zeros, y_train, r=r)\n",
    "    X_val = X_val_zeros\n",
    "    y_pred = w_0 + X_val.dot(w)\n",
    "    score = round(rmse(y_val, y_pred), 2)\n",
    "    \n",
    "    print(r, w_0, score)"
   ]
  },
  {
   "cell_type": "code",
   "execution_count": 378,
   "metadata": {},
   "outputs": [
    {
     "name": "stdout",
     "output_type": "stream",
     "text": [
      "Seed: 0, RMSE: 0.4300421569415895\n",
      "------------------------\n",
      "Seed: 1, RMSE: 0.4520794495247242\n",
      "------------------------\n",
      "Seed: 2, RMSE: 0.4462625574236661\n",
      "------------------------\n",
      "Seed: 3, RMSE: 0.4464515565727131\n",
      "------------------------\n",
      "Seed: 4, RMSE: 0.4199805419364144\n",
      "------------------------\n",
      "Seed: 5, RMSE: 0.4254576323418724\n",
      "------------------------\n",
      "Seed: 6, RMSE: 0.44883228723878676\n",
      "------------------------\n",
      "Seed: 7, RMSE: 0.4309159875904646\n",
      "------------------------\n",
      "Seed: 8, RMSE: 0.44288491832839877\n",
      "------------------------\n",
      "Seed: 9, RMSE: 0.40840334262399886\n",
      "------------------------\n",
      "Std: 0.014\n"
     ]
    }
   ],
   "source": [
    "seeds = list(range(10))\n",
    "scores = []\n",
    "\n",
    "for seed in range(10):\n",
    "    np.random.seed(seed)\n",
    "    n = len(df)\n",
    "    idx = np.arange(n)\n",
    "    np.random.shuffle(idx)\n",
    "    train_size = int(0.6 * n)\n",
    "    val_size = int(0.2 * n)\n",
    "    test_size = n - train_size - val_size\n",
    "    \n",
    "    df_train = df.iloc[idx[:train_size]].reset_index(drop=True)\n",
    "    df_val = df.iloc[idx[train_size:train_size+val_size]].reset_index(drop=True)\n",
    "    df_test = df.iloc[idx[train_size+val_size:]].reset_index(drop=True)\n",
    "\n",
    "    y_train = df_train.final_price.values.reshape(-1, 1)\n",
    "    y_val = df_val.final_price.values.reshape(-1, 1)\n",
    "    y_test = df_test.final_price.values.reshape(-1, 1)\n",
    "\n",
    "\n",
    "    del df_train['final_price']\n",
    "    del df_test['final_price']\n",
    "    del df_val['final_price']\n",
    "\n",
    "    df_train['screen'].fillna(0, inplace=True)\n",
    "    df_val['screen'].fillna(0, inplace=True)\n",
    "\n",
    "\n",
    "    X_train = df_train.values\n",
    "    X_val = df_val.values\n",
    "\n",
    "    w_0, w = train_linear_regression(X_train, y_train)\n",
    "    y_pred = w_0 + X_val.dot(w)\n",
    "    score = rmse(y_val, y_pred)\n",
    "    scores.append(score)\n",
    "    print(f'Seed: {seed}, RMSE: {score}')\n",
    "    print('------------------------')\n",
    "\n",
    "std = round(np.std(scores), 3)\n",
    "print(f'Std: {std}')\n",
    "\n",
    "    "
   ]
  },
  {
   "cell_type": "code",
   "execution_count": 379,
   "metadata": {},
   "outputs": [
    {
     "name": "stdout",
     "output_type": "stream",
     "text": [
      "Standard deviation of RMSE: 0.014\n"
     ]
    }
   ],
   "source": [
    "from sklearn.model_selection import train_test_split\n",
    "\n",
    "def evaluate_seed_influence(df, X, y):\n",
    "    seeds = list(range(10))  # [0, 1, 2, ..., 9]\n",
    "    rmse_scores = []\n",
    "\n",
    "    for seed in seeds:\n",
    "        # Train/Validation/Test split (60%/20%/20%)\n",
    "        df_train, df_temp = train_test_split(df, test_size=0.4, random_state=seed)\n",
    "        df_val, df_test = train_test_split(df_temp, test_size=0.5, random_state=seed)\n",
    "\n",
    "        # Fill missing values with 0\n",
    "        df_train.fillna(0, inplace=True)\n",
    "        df_val.fillna(0, inplace=True)\n",
    "\n",
    "\n",
    "        # Prepare training data\n",
    "        X_train = df_train[X].values\n",
    "        y_train = df_train[y].values\n",
    "\n",
    "        # Prepare validation data\n",
    "        X_val = df_val[X].values\n",
    "        y_val = df_val[y].values\n",
    "\n",
    "        # Train a linear regression model (without regularization)\n",
    "        w_0, w = train_linear_regression(X_train, y_train)\n",
    "        y_pred = w_0 + X_train.dot(w)\n",
    "\n",
    "        # Make predictions\n",
    "        y_pred = w_0 + X_val.dot(w)\n",
    "\n",
    "        # Compute RMSE\n",
    "        result = rmse(y_val, y_pred)\n",
    "        rmse_scores.append(result)\n",
    "\n",
    "    # Compute the standard deviation of RMSE scores\n",
    "    std_rmse = np.std(rmse_scores)\n",
    "    \n",
    "    return round(std_rmse,3)\n",
    "\n",
    "\n",
    "result = evaluate_seed_influence(df, X=['ram', 'storage', 'screen'], y=\"final_price\")\n",
    "print(\"Standard deviation of RMSE:\", result)\n"
   ]
  },
  {
   "cell_type": "code",
   "execution_count": 380,
   "metadata": {},
   "outputs": [
    {
     "data": {
      "text/plain": [
       "Index(['ram', 'storage', 'screen', 'final_price'], dtype='object')"
      ]
     },
     "execution_count": 380,
     "metadata": {},
     "output_type": "execute_result"
    }
   ],
   "source": [
    "df.columns"
   ]
  },
  {
   "cell_type": "code",
   "execution_count": 385,
   "metadata": {},
   "outputs": [],
   "source": [
    "np.random.seed(9)\n",
    "n = len(df)\n",
    "\n",
    "n_train = int(0.6 * n)\n",
    "n_val = int(0.2 * n)\n",
    "n_test = n - n_train - n_val\n",
    "\n",
    "\n",
    "\n",
    "# print(n, n_val, n_test, n_train)\n",
    "# print(n, n_train + n_val + n_test)\n",
    "\n",
    "\n",
    "df_train = df.iloc[:n_train].reset_index(drop=True)\n",
    "df_val = df.iloc[n_train:n_train+n_val].reset_index(drop=True)\n",
    "df_test = df.iloc[n_train+n_val:].reset_index(drop=True)\n",
    "\n",
    "df_combined = pd.concat([df_train, df_val])\n",
    "\n",
    "\n",
    "y_train = df_combined.final_price.values.reshape(-1, 1)\n",
    "y_test = df_test.final_price.values.reshape(-1, 1)\n",
    "\n",
    "\n",
    "del df_train['final_price']\n",
    "del df_test['final_price']\n",
    "del df_combined['final_price']\n"
   ]
  },
  {
   "cell_type": "code",
   "execution_count": 386,
   "metadata": {},
   "outputs": [
    {
     "data": {
      "text/plain": [
       "ram        0\n",
       "storage    0\n",
       "screen     0\n",
       "dtype: int64"
      ]
     },
     "execution_count": 386,
     "metadata": {},
     "output_type": "execute_result"
    }
   ],
   "source": [
    "\n",
    "df_combined.fillna(0, inplace=True)\n",
    "df_combined.isnull().sum()"
   ]
  },
  {
   "cell_type": "code",
   "execution_count": 387,
   "metadata": {},
   "outputs": [
    {
     "name": "stdout",
     "output_type": "stream",
     "text": [
      "(1728, 3) (1728, 1)\n"
     ]
    }
   ],
   "source": [
    "X_train = df_combined.values\n",
    "\n",
    "X_test = df_test.values\n",
    "print(X_train.shape, y_train.shape)"
   ]
  },
  {
   "cell_type": "code",
   "execution_count": 388,
   "metadata": {},
   "outputs": [
    {
     "name": "stdout",
     "output_type": "stream",
     "text": [
      "0.44145426563546813\n"
     ]
    }
   ],
   "source": [
    "w_0, w= train_linear_regression_reg(X_train, y_train, r=0.001)\n",
    "y_pred = w_0 + X_test.dot(w)\n",
    "score = rmse(y_test, y_pred)\n",
    "print(score)\n"
   ]
  }
 ],
 "metadata": {
  "kernelspec": {
   "display_name": "base",
   "language": "python",
   "name": "python3"
  },
  "language_info": {
   "codemirror_mode": {
    "name": "ipython",
    "version": 3
   },
   "file_extension": ".py",
   "mimetype": "text/x-python",
   "name": "python",
   "nbconvert_exporter": "python",
   "pygments_lexer": "ipython3",
   "version": "3.10.9"
  }
 },
 "nbformat": 4,
 "nbformat_minor": 2
}
